{
  "nbformat": 4,
  "nbformat_minor": 0,
  "metadata": {
    "colab": {
      "name": "Lecture1",
      "provenance": [],
      "authorship_tag": "ABX9TyNP1jIo1AERcT4P/yQYhnSG",
      "include_colab_link": true
    },
    "kernelspec": {
      "name": "python3",
      "display_name": "Python 3"
    },
    "language_info": {
      "name": "python"
    }
  },
  "cells": [
    {
      "cell_type": "markdown",
      "metadata": {
        "id": "view-in-github",
        "colab_type": "text"
      },
      "source": [
        "<a href=\"https://colab.research.google.com/github/userr2232/numerical-linear-algebra/blob/master/Lecture1.ipynb\" target=\"_parent\"><img src=\"https://colab.research.google.com/assets/colab-badge.svg\" alt=\"Open In Colab\"/></a>"
      ]
    },
    {
      "cell_type": "code",
      "execution_count": 66,
      "metadata": {
        "id": "2boXAiTrcGCR"
      },
      "outputs": [],
      "source": [
        "import numpy as np\n",
        "from numpy.linalg import matrix_rank, inv, det, eigvals\n",
        "from scipy.linalg import orth, null_space, svdvals"
      ]
    },
    {
      "cell_type": "markdown",
      "source": [
        "#### Outer Product\n",
        "* All columns are multiples of $u$ and all rows are multiples of $v$.\n",
        "* The matrix $uv^T$ has rank 1.\n",
        "\n",
        "$\n",
        "uv^T = \n",
        "\\begin{bmatrix}\\phantom{\\vert} \\\\ u \\\\ \\phantom\\vert\\end{bmatrix}\\begin{bmatrix}v_1 & v_2 & v_3 \\dots & v_n \\end{bmatrix} = \n",
        "\\left[\n",
        "    \\begin{matrix}\n",
        "        \\phantom\\vert \\\\\n",
        "        v_1u \\\\\n",
        "        \\phantom\\vert \\\\\n",
        "    \\end{matrix}\n",
        "    \\left|\\\n",
        "    \\begin{matrix}\n",
        "        \\phantom\\vert \\\\\n",
        "        v_2u \\\\\n",
        "        \\phantom\\vert \\\\\n",
        "    \\end{matrix}\n",
        "    \\right.\n",
        "    \\left|\\\n",
        "    \\begin{matrix}\n",
        "        \\phantom\\vert \\\\\n",
        "        \\dots \\\\\n",
        "        \\phantom\\vert \\\\\n",
        "    \\end{matrix}\n",
        "    \\right.\n",
        "    \\left|\\\n",
        "    \\begin{matrix}\n",
        "        \\phantom\\vert \\\\\n",
        "        v_nu \\\\\n",
        "        \\phantom\\vert \\\\\n",
        "    \\end{matrix}\n",
        "    \\right.\n",
        "\\right] =\n",
        "\\begin{bmatrix}\n",
        "v_1u_1 & \\dots & v_nu_1 \\\\\n",
        "\\vdots & \\ddots & \\vdots \\\\\n",
        "v_1u_m & \\dots & v_nu_m\n",
        "\\end{bmatrix}\n",
        "$"
      ],
      "metadata": {
        "id": "JpI_5BBChLnC"
      }
    },
    {
      "cell_type": "code",
      "source": [
        "u = np.arange(1,5)[:, np.newaxis]\n",
        "v = u + 4\n",
        "u, v"
      ],
      "metadata": {
        "colab": {
          "base_uri": "https://localhost:8080/"
        },
        "id": "EoyAwdcifT3v",
        "outputId": "43d54bab-5711-45c6-f906-4b98aea76849"
      },
      "execution_count": 55,
      "outputs": [
        {
          "output_type": "execute_result",
          "data": {
            "text/plain": [
              "(array([[1],\n",
              "        [2],\n",
              "        [3],\n",
              "        [4]]),\n",
              " array([[5],\n",
              "        [6],\n",
              "        [7],\n",
              "        [8]]))"
            ]
          },
          "metadata": {},
          "execution_count": 55
        }
      ]
    },
    {
      "cell_type": "code",
      "source": [
        "u @ v.T"
      ],
      "metadata": {
        "colab": {
          "base_uri": "https://localhost:8080/"
        },
        "id": "nt0f4FCAgfh-",
        "outputId": "8b2bb74d-589a-4559-929e-dd6f9e44e52e"
      },
      "execution_count": 26,
      "outputs": [
        {
          "output_type": "execute_result",
          "data": {
            "text/plain": [
              "array([[ 5,  6,  7,  8],\n",
              "       [10, 12, 14, 16],\n",
              "       [15, 18, 21, 24],\n",
              "       [20, 24, 28, 32]])"
            ]
          },
          "metadata": {},
          "execution_count": 26
        }
      ]
    },
    {
      "cell_type": "markdown",
      "source": [
        "#### $B = AR, R$ is a upper-triangular matrix\n",
        "\n",
        "$b_j = Ar_j = \\sum\\limits_{k=1}^{j} a_k$\n",
        "\n",
        "$b_j$ is the sum of the first $j$ columns of A."
      ],
      "metadata": {
        "id": "s965Blv497k2"
      }
    },
    {
      "cell_type": "code",
      "source": [
        "A = np.arange(1, 10).reshape(3, 3)\n",
        "R = np.triu(np.ones(9).reshape(3, 3), k=0)\n",
        "A, R"
      ],
      "metadata": {
        "colab": {
          "base_uri": "https://localhost:8080/"
        },
        "id": "KhbyUBkP8rND",
        "outputId": "5a5ba9c6-7c0a-416f-a6bb-e91b1a7d25f0"
      },
      "execution_count": 27,
      "outputs": [
        {
          "output_type": "execute_result",
          "data": {
            "text/plain": [
              "(array([[1, 2, 3],\n",
              "        [4, 5, 6],\n",
              "        [7, 8, 9]]),\n",
              " array([[1., 1., 1.],\n",
              "        [0., 1., 1.],\n",
              "        [0., 0., 1.]]))"
            ]
          },
          "metadata": {},
          "execution_count": 27
        }
      ]
    },
    {
      "cell_type": "code",
      "source": [
        "A @ R"
      ],
      "metadata": {
        "colab": {
          "base_uri": "https://localhost:8080/"
        },
        "id": "nzpnSIBE9gZT",
        "outputId": "c79885d8-5f58-4515-c2d8-8705ce3852d1"
      },
      "execution_count": 28,
      "outputs": [
        {
          "output_type": "execute_result",
          "data": {
            "text/plain": [
              "array([[ 1.,  3.,  6.],\n",
              "       [ 4.,  9., 15.],\n",
              "       [ 7., 15., 24.]])"
            ]
          },
          "metadata": {},
          "execution_count": 28
        }
      ]
    },
    {
      "cell_type": "markdown",
      "source": [
        "### Range and Nullspace"
      ],
      "metadata": {
        "id": "dLjG9so7_fMQ"
      }
    },
    {
      "cell_type": "markdown",
      "source": [
        "* The range of $A$ is the set of vectors that can be expressed as $Ax$ for a given $x$. In other words, is the space spanned by the columns of $A$ (also known as *column space*).\n",
        "* The nullspace of $A$, is the set of vectors that when multiplied by $A$ give $0$."
      ],
      "metadata": {
        "id": "B6f3-xV4EV8n"
      }
    },
    {
      "cell_type": "code",
      "source": [
        "A = np.ones(4).reshape(2, 2)\n",
        "A"
      ],
      "metadata": {
        "colab": {
          "base_uri": "https://localhost:8080/"
        },
        "id": "okygdLMd96Ke",
        "outputId": "79155017-789b-4915-a678-d67c2428d53c"
      },
      "execution_count": 64,
      "outputs": [
        {
          "output_type": "execute_result",
          "data": {
            "text/plain": [
              "array([[1., 1.],\n",
              "       [1., 1.]])"
            ]
          },
          "metadata": {},
          "execution_count": 64
        }
      ]
    },
    {
      "cell_type": "code",
      "source": [
        "range = orth(A)\n",
        "range # range is the orthonormal basis for the range of A"
      ],
      "metadata": {
        "colab": {
          "base_uri": "https://localhost:8080/"
        },
        "id": "1dGmErvSirLo",
        "outputId": "9361e785-78c8-4d17-a3ba-9406fafe6dc9"
      },
      "execution_count": 73,
      "outputs": [
        {
          "output_type": "execute_result",
          "data": {
            "text/plain": [
              "array([[-0.70710678],\n",
              "       [-0.70710678]])"
            ]
          },
          "metadata": {},
          "execution_count": 73
        }
      ]
    },
    {
      "cell_type": "code",
      "source": [
        "ns = null_space(A)\n",
        "ns # ns is the orthonormal basis for the nullspace of A"
      ],
      "metadata": {
        "colab": {
          "base_uri": "https://localhost:8080/"
        },
        "id": "l7zGTpYyDyo6",
        "outputId": "9d4c9762-c8c0-49c3-ad1c-fcfea03ac426"
      },
      "execution_count": 74,
      "outputs": [
        {
          "output_type": "execute_result",
          "data": {
            "text/plain": [
              "array([[-0.70710678],\n",
              "       [ 0.70710678]])"
            ]
          },
          "metadata": {},
          "execution_count": 74
        }
      ]
    },
    {
      "cell_type": "code",
      "source": [
        "np.allclose(A @ ns, 0)"
      ],
      "metadata": {
        "colab": {
          "base_uri": "https://localhost:8080/"
        },
        "id": "31xvPBQyi0LM",
        "outputId": "48dee416-4551-4133-fafe-0d10fadadea1"
      },
      "execution_count": 72,
      "outputs": [
        {
          "output_type": "execute_result",
          "data": {
            "text/plain": [
              "True"
            ]
          },
          "metadata": {},
          "execution_count": 72
        }
      ]
    },
    {
      "cell_type": "markdown",
      "source": [
        "### Rank"
      ],
      "metadata": {
        "id": "8od9k7_FFOty"
      }
    },
    {
      "cell_type": "markdown",
      "source": [
        "* The column rank is the dimension of the column space.\n",
        "* rank $=$ row rank $=$ column rank\n",
        "* A matrix $A \\in \\mathbb{C}^{m\\times n}$ of *full rank* has rank $=$ min(m, n). In other words, it has at least min(m, n) linearly independent columns.\n",
        "* $A \\in \\mathbb{C}^{m\\times n}$ has *full rank* if and only if it maps no two distinct vectors to the same vector."
      ],
      "metadata": {
        "id": "p_uCuNhTGyBu"
      }
    },
    {
      "cell_type": "code",
      "source": [
        "I = np.eye(4)\n",
        "A = I.copy()\n",
        "A[-1,-1] = 0\n",
        "matrix_rank(I), matrix_rank(A)"
      ],
      "metadata": {
        "colab": {
          "base_uri": "https://localhost:8080/"
        },
        "id": "NJosKJ6JK6xh",
        "outputId": "9c788e3e-976e-45ae-804d-5c1f05f4f89f"
      },
      "execution_count": 43,
      "outputs": [
        {
          "output_type": "execute_result",
          "data": {
            "text/plain": [
              "(4, 3)"
            ]
          },
          "metadata": {},
          "execution_count": 43
        }
      ]
    },
    {
      "cell_type": "markdown",
      "source": [
        "### Inverse"
      ],
      "metadata": {
        "id": "1LryzTxnI-iT"
      }
    },
    {
      "cell_type": "markdown",
      "source": [
        "* A *nonsingular* or *invertible* matrix is a square matrix of full rank.\n",
        "* Since $A \\in \\mathbb{C}^{m\\times m}$ has full rank, it has $m$ linearly independent columns. \n",
        "    * Thus, it forms a basis for the whole space $\\mathbb{C}^{m}$. \n",
        "        * Therefore, any vector in $\\mathbb{C}^{m}$ can be expressed as a linear combination of its columns.\n",
        "        * In particular, the one-hot vector $e_j$ with 1 in its $j^{th}$ entry, can be expressed as a linear combination of $A$'s columns: $e_j = \\sum\\limits_{i=1}^{m}z_{ij}a_{i}$\n",
        "\n",
        "$$\n",
        "\\left[\n",
        "    \\begin{matrix}\n",
        "        \\phantom\\vert \\\\\n",
        "        e_1 \\\\\n",
        "        \\phantom\\vert \\\\\n",
        "    \\end{matrix}\n",
        "    \\left|\\\n",
        "    \\begin{matrix}\n",
        "        \\phantom\\vert \\\\\n",
        "        \\dots \\\\\n",
        "        \\phantom\\vert \\\\\n",
        "    \\end{matrix}\n",
        "    \\right.\n",
        "    \\left|\\\n",
        "    \\begin{matrix}\n",
        "        \\phantom\\vert \\\\\n",
        "        e_m \\\\\n",
        "        \\phantom\\vert \\\\\n",
        "    \\end{matrix}\n",
        "    \\right.\n",
        "\\right] =\n",
        "I = \n",
        "AZ\n",
        "$$\n",
        "\n",
        "$Z$ is the *inverse* of A and it's unique. $AA^{-1} = A^{-1}A = I$"
      ],
      "metadata": {
        "id": "Yn_69u6VKp64"
      }
    },
    {
      "cell_type": "markdown",
      "source": [
        "The following conditions for $A \\in \\mathbb{C}^{m\\times m}$ are equivalent:\n",
        "\n",
        "* $A$ has an inverse $A^{-1}$\n",
        "* $rank(A)$ = m\n",
        "* $range(A) = \\mathbb{C}^{m}$\n",
        "* $null(A) = {0}$\n",
        "* $0$ is not an eigenvalue of $A$\n",
        "* $0$ is not a singular value of $A$\n",
        "* $det(A) \\neq 0$"
      ],
      "metadata": {
        "id": "lK5w5AqFbJan"
      }
    },
    {
      "cell_type": "code",
      "source": [
        "A = np.arange(1, 5).reshape(2, 2)\n",
        "I = np.eye(2)"
      ],
      "metadata": {
        "id": "rsrWsF0mds15"
      },
      "execution_count": 77,
      "outputs": []
    },
    {
      "cell_type": "code",
      "source": [
        "A_1 = inv(A)\n",
        "np.allclose(A @ A_1, I)"
      ],
      "metadata": {
        "colab": {
          "base_uri": "https://localhost:8080/"
        },
        "id": "1ps5OUvIhYxf",
        "outputId": "2397ae25-325f-4b05-a3c1-a5a1fdd58185"
      },
      "execution_count": 78,
      "outputs": [
        {
          "output_type": "execute_result",
          "data": {
            "text/plain": [
              "True"
            ]
          },
          "metadata": {},
          "execution_count": 78
        }
      ]
    },
    {
      "cell_type": "code",
      "source": [
        "matrix_rank(A)"
      ],
      "metadata": {
        "colab": {
          "base_uri": "https://localhost:8080/"
        },
        "id": "Ga0BXmLqjJfD",
        "outputId": "0c453534-2ce7-47be-f664-1e349e9819bb"
      },
      "execution_count": 79,
      "outputs": [
        {
          "output_type": "execute_result",
          "data": {
            "text/plain": [
              "2"
            ]
          },
          "metadata": {},
          "execution_count": 79
        }
      ]
    },
    {
      "cell_type": "code",
      "source": [
        "orth(A)"
      ],
      "metadata": {
        "colab": {
          "base_uri": "https://localhost:8080/"
        },
        "id": "J4sKw46bjOJX",
        "outputId": "0f9a153c-5c18-4d76-8fcf-c012f949a8cb"
      },
      "execution_count": 80,
      "outputs": [
        {
          "output_type": "execute_result",
          "data": {
            "text/plain": [
              "array([[-0.40455358, -0.9145143 ],\n",
              "       [-0.9145143 ,  0.40455358]])"
            ]
          },
          "metadata": {},
          "execution_count": 80
        }
      ]
    },
    {
      "cell_type": "code",
      "source": [
        "null_space(A)"
      ],
      "metadata": {
        "colab": {
          "base_uri": "https://localhost:8080/"
        },
        "id": "ZsStQBIchV8O",
        "outputId": "23ff672f-6217-4d39-e29b-12f66c50828c"
      },
      "execution_count": 81,
      "outputs": [
        {
          "output_type": "execute_result",
          "data": {
            "text/plain": [
              "array([], shape=(2, 0), dtype=float64)"
            ]
          },
          "metadata": {},
          "execution_count": 81
        }
      ]
    },
    {
      "cell_type": "code",
      "source": [
        "eigvals(A)"
      ],
      "metadata": {
        "colab": {
          "base_uri": "https://localhost:8080/"
        },
        "id": "heXdmehthv8F",
        "outputId": "01d24046-4e67-43e2-c072-74e419f33bc5"
      },
      "execution_count": 82,
      "outputs": [
        {
          "output_type": "execute_result",
          "data": {
            "text/plain": [
              "array([-0.37228132,  5.37228132])"
            ]
          },
          "metadata": {},
          "execution_count": 82
        }
      ]
    },
    {
      "cell_type": "code",
      "source": [
        "svdvals(A)"
      ],
      "metadata": {
        "colab": {
          "base_uri": "https://localhost:8080/"
        },
        "id": "V_6rL7MNiVIt",
        "outputId": "d5382f21-18c4-48ed-db3b-d36ce1ee574b"
      },
      "execution_count": 83,
      "outputs": [
        {
          "output_type": "execute_result",
          "data": {
            "text/plain": [
              "array([5.4649857 , 0.36596619])"
            ]
          },
          "metadata": {},
          "execution_count": 83
        }
      ]
    },
    {
      "cell_type": "code",
      "source": [
        "det(A)"
      ],
      "metadata": {
        "colab": {
          "base_uri": "https://localhost:8080/"
        },
        "id": "m0GOazf3hhwB",
        "outputId": "eb708347-d6e6-414d-84f4-f2449c79a38d"
      },
      "execution_count": 84,
      "outputs": [
        {
          "output_type": "execute_result",
          "data": {
            "text/plain": [
              "-2.0000000000000004"
            ]
          },
          "metadata": {},
          "execution_count": 84
        }
      ]
    },
    {
      "cell_type": "markdown",
      "source": [
        "### Matrix inverse times a vector\n",
        "\n",
        "$x = A^{-1}b \\Leftrightarrow Ax = b$\n",
        "\n",
        "$x$ is the vector of coefficients of the unique linear expansion of $b$ in the basis of columns of A."
      ],
      "metadata": {
        "id": "RhrOq_Xdjlwr"
      }
    },
    {
      "cell_type": "markdown",
      "source": [
        "### Exercises"
      ],
      "metadata": {
        "id": "4Fz9EMKckxuK"
      }
    },
    {
      "cell_type": "markdown",
      "source": [
        "#### 1.1"
      ],
      "metadata": {
        "id": "-1Np75BVlGBu"
      }
    },
    {
      "cell_type": "markdown",
      "source": [
        "(a)\n",
        "$\n",
        "\\begin{bmatrix}\n",
        "    1 & -1 & 0 & 0 \\\\\n",
        "    0 & 1 & 0 & 0 \\\\\n",
        "    0 & -1 & 1 & 0 \\\\\n",
        "    0 & -1 & 0 & 1 \\\\\n",
        "\\end{bmatrix}\n",
        "\\begin{bmatrix}\n",
        "    1 & 0 & 1 & 0 \\\\\n",
        "    0 & 1 & 0 & 0 \\\\\n",
        "    0 & 0 & 1 & 0 \\\\\n",
        "    0 & 0 & 0 & 1 \\\\\n",
        "\\end{bmatrix}\n",
        "\\begin{bmatrix}\n",
        "    1 & 0 & 0 & 0 \\\\\n",
        "    0 & 1 & 0 & 0 \\\\\n",
        "    0 & 0 & 0.5 & 0 \\\\\n",
        "    0 & 0 & 0 & 1 \\\\\n",
        "\\end{bmatrix}\n",
        "\\begin{bmatrix}\n",
        "    b_{11} & b_{12} & b_{13} & b_{14} \\\\\n",
        "    b_{21} & b_{22} & b_{23} & b_{24} \\\\\n",
        "    b_{31} & b_{32} & b_{33} & b_{34} \\\\\n",
        "    b_{41} & b_{42} & b_{43} & b_{44} \\\\\n",
        "\\end{bmatrix}\n",
        "\\begin{bmatrix}\n",
        "    2 & 0 & 0 & 0 \\\\\n",
        "    0 & 1 & 0 & 0 \\\\\n",
        "    0 & 0 & 1 & 0 \\\\\n",
        "    0 & 0 & 0 & 1 \\\\\n",
        "\\end{bmatrix}\n",
        "\\begin{bmatrix}\n",
        "    0 & 0 & 0 & 1 \\\\\n",
        "    0 & 1 & 0 & 0 \\\\\n",
        "    0 & 0 & 1 & 0 \\\\\n",
        "    1 & 0 & 0 & 0 \\\\\n",
        "\\end{bmatrix}\n",
        "\\begin{bmatrix}\n",
        "    1 & 0 & 0 & 0 \\\\\n",
        "    0 & 1 & 0 & 0 \\\\\n",
        "    0 & 0 & 1 & 1 \\\\\n",
        "    0 & 0 & 0 & 0 \\\\\n",
        "\\end{bmatrix}\n",
        "\\begin{bmatrix}\n",
        "    0 & 0 & 0 \\\\\n",
        "    1 & 0 & 0 \\\\\n",
        "    0 & 1 & 0 \\\\\n",
        "    0 & 0 & 1 \\\\\n",
        "\\end{bmatrix}\n",
        "$"
      ],
      "metadata": {
        "id": "i-AD2XCXlJAt"
      }
    },
    {
      "cell_type": "markdown",
      "source": [
        "#### (b)"
      ],
      "metadata": {
        "id": "VIbS8fzZssDW"
      }
    },
    {
      "cell_type": "code",
      "source": [
        "A = np.matrix([[1, -1, 0, 0], [0, 1, 0, 0], [0, -1, 1, 0], [0, -1, 0, 1]]) @ \\\n",
        "    np.matrix([[1, 0, 1, 0], [0, 1, 0, 0], [0, 0, 1, 0], [0, 0, 0, 1]]) @ \\\n",
        "    np.matrix([[1, 0, 0, 0], [0, 1, 0, 0], [0, 0, 0.5, 0], [0, 0, 0, 1]])\n",
        "A"
      ],
      "metadata": {
        "colab": {
          "base_uri": "https://localhost:8080/"
        },
        "id": "30OLhOE6sz1Y",
        "outputId": "09edb7a4-0b47-4db0-8763-f507c40433ce"
      },
      "execution_count": 86,
      "outputs": [
        {
          "output_type": "execute_result",
          "data": {
            "text/plain": [
              "matrix([[ 1. , -1. ,  0.5,  0. ],\n",
              "        [ 0. ,  1. ,  0. ,  0. ],\n",
              "        [ 0. , -1. ,  0.5,  0. ],\n",
              "        [ 0. , -1. ,  0. ,  1. ]])"
            ]
          },
          "metadata": {},
          "execution_count": 86
        }
      ]
    },
    {
      "cell_type": "code",
      "source": [
        "C = np.matrix([[2, 0, 0, 0], [0, 1, 0, 0], [0, 0, 1, 0], [0, 0, 0, 1]]) @ \\\n",
        "    np.matrix([[0, 0, 0, 1], [0, 1, 0, 0], [0, 0, 1, 0], [1, 0, 0, 0]]) @ \\\n",
        "    np.matrix([[1, 0, 0, 0], [0, 1, 0, 0], [0, 0, 1, 1], [0, 0, 0, 0]]) @ \\\n",
        "    np.matrix([[0, 0, 0], [1, 0, 0], [0, 1, 0], [0, 0, 1]])\n",
        "C"
      ],
      "metadata": {
        "colab": {
          "base_uri": "https://localhost:8080/"
        },
        "id": "IWplZ5trtaH8",
        "outputId": "90128e0e-91b8-4be9-8a77-1f042fa8d986"
      },
      "execution_count": 87,
      "outputs": [
        {
          "output_type": "execute_result",
          "data": {
            "text/plain": [
              "matrix([[0, 0, 0],\n",
              "        [1, 0, 0],\n",
              "        [0, 1, 1],\n",
              "        [0, 0, 0]])"
            ]
          },
          "metadata": {},
          "execution_count": 87
        }
      ]
    },
    {
      "cell_type": "markdown",
      "source": [
        "$\n",
        "\\begin{bmatrix}\n",
        "    1 & -1 & 0.5 & 0 \\\\\n",
        "    0 & 1 & 0 & 0 \\\\\n",
        "    0 & -1 & 0.5 & 0 \\\\\n",
        "    0 & -1 & 0 & 1 \\\\\n",
        "\\end{bmatrix}\n",
        "\\begin{bmatrix}\n",
        "    b_{11} & b_{12} & b_{13} & b_{14} \\\\\n",
        "    b_{21} & b_{22} & b_{23} & b_{24} \\\\\n",
        "    b_{31} & b_{32} & b_{33} & b_{34} \\\\\n",
        "    b_{41} & b_{42} & b_{43} & b_{44} \\\\\n",
        "\\end{bmatrix}\n",
        "\\begin{bmatrix}\n",
        "    0 & 0 & 0 \\\\\n",
        "    1 & 0 & 0 \\\\\n",
        "    0 & 1 & 1 \\\\\n",
        "    0 & 0 & 0 \\\\\n",
        "\\end{bmatrix}\n",
        "$"
      ],
      "metadata": {
        "id": "hmMsSk15t9hs"
      }
    }
  ]
}