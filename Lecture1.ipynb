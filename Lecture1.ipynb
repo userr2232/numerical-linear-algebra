{
  "nbformat": 4,
  "nbformat_minor": 0,
  "metadata": {
    "colab": {
      "name": "Lecture1",
      "provenance": [],
      "authorship_tag": "ABX9TyOXDK0fJUQOHPnmnrT6QrNF",
      "include_colab_link": true
    },
    "kernelspec": {
      "name": "python3",
      "display_name": "Python 3"
    },
    "language_info": {
      "name": "python"
    }
  },
  "cells": [
    {
      "cell_type": "markdown",
      "metadata": {
        "id": "view-in-github",
        "colab_type": "text"
      },
      "source": [
        "<a href=\"https://colab.research.google.com/github/userr2232/numerical-linear-algebra/blob/master/Lecture1.ipynb\" target=\"_parent\"><img src=\"https://colab.research.google.com/assets/colab-badge.svg\" alt=\"Open In Colab\"/></a>"
      ]
    },
    {
      "cell_type": "code",
      "execution_count": 40,
      "metadata": {
        "id": "2boXAiTrcGCR"
      },
      "outputs": [],
      "source": [
        "import numpy as np\n",
        "from numpy.linalg import matrix_rank\n",
        "from scipy.linalg import null_space"
      ]
    },
    {
      "cell_type": "markdown",
      "source": [
        "#### Outer Product\n",
        "* All columns are multiples of $u$ and all rows are multiples of $v$.\n",
        "* The matrix $uv^T$ has rank 1.\n",
        "\n",
        "$\n",
        "uv^T = \n",
        "\\begin{bmatrix}\\phantom{\\vert} \\\\ u \\\\ \\phantom\\vert\\end{bmatrix}\\begin{bmatrix}v_1 & v_2 & v_3 \\dots & v_n \\end{bmatrix} = \n",
        "\\left[\n",
        "    \\begin{matrix}\n",
        "        \\phantom\\vert \\\\\n",
        "        v_1u \\\\\n",
        "        \\phantom\\vert \\\\\n",
        "    \\end{matrix}\n",
        "    \\left|\\\n",
        "    \\begin{matrix}\n",
        "        \\phantom\\vert \\\\\n",
        "        v_2u \\\\\n",
        "        \\phantom\\vert \\\\\n",
        "    \\end{matrix}\n",
        "    \\right.\n",
        "    \\left|\\\n",
        "    \\begin{matrix}\n",
        "        \\phantom\\vert \\\\\n",
        "        \\dots \\\\\n",
        "        \\phantom\\vert \\\\\n",
        "    \\end{matrix}\n",
        "    \\right.\n",
        "    \\left|\\\n",
        "    \\begin{matrix}\n",
        "        \\phantom\\vert \\\\\n",
        "        v_nu \\\\\n",
        "        \\phantom\\vert \\\\\n",
        "    \\end{matrix}\n",
        "    \\right.\n",
        "\\right] =\n",
        "\\begin{bmatrix}\n",
        "v_1u_1 & \\dots & v_nu_1 \\\\\n",
        "\\vdots & \\ddots & \\vdots \\\\\n",
        "v_1u_m & \\dots & v_nu_m\n",
        "\\end{bmatrix}\n",
        "$"
      ],
      "metadata": {
        "id": "JpI_5BBChLnC"
      }
    },
    {
      "cell_type": "code",
      "source": [
        "u = np.arange(1,5)[:, np.newaxis]\n",
        "v = u + 4\n",
        "u, v"
      ],
      "metadata": {
        "colab": {
          "base_uri": "https://localhost:8080/"
        },
        "id": "EoyAwdcifT3v",
        "outputId": "57dd39c7-ee02-4ea3-8ef5-43527b0f54fd"
      },
      "execution_count": 25,
      "outputs": [
        {
          "output_type": "execute_result",
          "data": {
            "text/plain": [
              "(array([[1],\n",
              "        [2],\n",
              "        [3],\n",
              "        [4]]),\n",
              " array([[5],\n",
              "        [6],\n",
              "        [7],\n",
              "        [8]]))"
            ]
          },
          "metadata": {},
          "execution_count": 25
        }
      ]
    },
    {
      "cell_type": "code",
      "source": [
        "u @ v.T"
      ],
      "metadata": {
        "colab": {
          "base_uri": "https://localhost:8080/"
        },
        "id": "nt0f4FCAgfh-",
        "outputId": "8b2bb74d-589a-4559-929e-dd6f9e44e52e"
      },
      "execution_count": 26,
      "outputs": [
        {
          "output_type": "execute_result",
          "data": {
            "text/plain": [
              "array([[ 5,  6,  7,  8],\n",
              "       [10, 12, 14, 16],\n",
              "       [15, 18, 21, 24],\n",
              "       [20, 24, 28, 32]])"
            ]
          },
          "metadata": {},
          "execution_count": 26
        }
      ]
    },
    {
      "cell_type": "markdown",
      "source": [
        "#### $B = AR, R$ is a upper-triangular matrix\n",
        "\n",
        "$b_j = Ar_j = \\sum\\limits_{k=1}^{j} a_k$\n",
        "$b_j$ then, is the sum of the first $j$ columns of A."
      ],
      "metadata": {
        "id": "s965Blv497k2"
      }
    },
    {
      "cell_type": "code",
      "source": [
        "A = np.arange(1, 10).reshape(3, 3)\n",
        "R = np.triu(np.ones(9).reshape(3, 3), k=0)\n",
        "A, R"
      ],
      "metadata": {
        "colab": {
          "base_uri": "https://localhost:8080/"
        },
        "id": "KhbyUBkP8rND",
        "outputId": "5a5ba9c6-7c0a-416f-a6bb-e91b1a7d25f0"
      },
      "execution_count": 27,
      "outputs": [
        {
          "output_type": "execute_result",
          "data": {
            "text/plain": [
              "(array([[1, 2, 3],\n",
              "        [4, 5, 6],\n",
              "        [7, 8, 9]]),\n",
              " array([[1., 1., 1.],\n",
              "        [0., 1., 1.],\n",
              "        [0., 0., 1.]]))"
            ]
          },
          "metadata": {},
          "execution_count": 27
        }
      ]
    },
    {
      "cell_type": "code",
      "source": [
        "A @ R"
      ],
      "metadata": {
        "colab": {
          "base_uri": "https://localhost:8080/"
        },
        "id": "nzpnSIBE9gZT",
        "outputId": "c79885d8-5f58-4515-c2d8-8705ce3852d1"
      },
      "execution_count": 28,
      "outputs": [
        {
          "output_type": "execute_result",
          "data": {
            "text/plain": [
              "array([[ 1.,  3.,  6.],\n",
              "       [ 4.,  9., 15.],\n",
              "       [ 7., 15., 24.]])"
            ]
          },
          "metadata": {},
          "execution_count": 28
        }
      ]
    },
    {
      "cell_type": "markdown",
      "source": [
        "### Range and Nullspace"
      ],
      "metadata": {
        "id": "dLjG9so7_fMQ"
      }
    },
    {
      "cell_type": "markdown",
      "source": [
        "* The range of $A$ is the set of vectors that can be expressed as $Ax$ for a given $x$. In other words, is the space spanned by the columns of $A$ (also known as *column space*).\n",
        "* The nullspace of $A$, is the set of vectors that when multiplied by $A$ give $0$."
      ],
      "metadata": {
        "id": "B6f3-xV4EV8n"
      }
    },
    {
      "cell_type": "code",
      "source": [
        "A = np.ones(4).reshape(2, 2)\n",
        "ns = null_space(A)\n",
        "A, ns # ns is the orthonormal basis for the nullspace of A"
      ],
      "metadata": {
        "colab": {
          "base_uri": "https://localhost:8080/"
        },
        "id": "okygdLMd96Ke",
        "outputId": "d9a15d0d-c219-4502-8989-c329588d32c9"
      },
      "execution_count": 37,
      "outputs": [
        {
          "output_type": "execute_result",
          "data": {
            "text/plain": [
              "(array([[1., 1.],\n",
              "        [1., 1.]]),\n",
              " array([[-0.70710678],\n",
              "        [ 0.70710678]]))"
            ]
          },
          "metadata": {},
          "execution_count": 37
        }
      ]
    },
    {
      "cell_type": "code",
      "source": [
        "np.allclose(A @ ns, 0)"
      ],
      "metadata": {
        "colab": {
          "base_uri": "https://localhost:8080/"
        },
        "id": "l7zGTpYyDyo6",
        "outputId": "5ffa3e48-5cbb-4fb1-de14-27493df5fa68"
      },
      "execution_count": 36,
      "outputs": [
        {
          "output_type": "execute_result",
          "data": {
            "text/plain": [
              "True"
            ]
          },
          "metadata": {},
          "execution_count": 36
        }
      ]
    },
    {
      "cell_type": "markdown",
      "source": [
        "### Rank"
      ],
      "metadata": {
        "id": "8od9k7_FFOty"
      }
    },
    {
      "cell_type": "markdown",
      "source": [
        "* The column rank is the dimension of the column space.\n",
        "* rank $=$ row rank $=$ column rank\n",
        "* A matrix $A \\in \\mathbb{C}^{m\\times n}$ of *full rank* has rank $=$ min(m, n). In other words, it has at least min(m, n) linearly independent columns.\n",
        "* $A \\in \\mathbb{C}^{m\\times n}$ has *full rank* if and only if it maps no two distinct vectors to the same vector."
      ],
      "metadata": {
        "id": "p_uCuNhTGyBu"
      }
    },
    {
      "cell_type": "code",
      "source": [
        "I = np.eye(4)\n",
        "A = I.copy()\n",
        "A[-1,-1] = 0\n",
        "matrix_rank(I), matrix_rank(A)"
      ],
      "metadata": {
        "colab": {
          "base_uri": "https://localhost:8080/"
        },
        "id": "NJosKJ6JK6xh",
        "outputId": "9c788e3e-976e-45ae-804d-5c1f05f4f89f"
      },
      "execution_count": 43,
      "outputs": [
        {
          "output_type": "execute_result",
          "data": {
            "text/plain": [
              "(4, 3)"
            ]
          },
          "metadata": {},
          "execution_count": 43
        }
      ]
    },
    {
      "cell_type": "markdown",
      "source": [
        "### Inverse"
      ],
      "metadata": {
        "id": "1LryzTxnI-iT"
      }
    },
    {
      "cell_type": "markdown",
      "source": [
        "* A *nonsingular* or *invertible* matrix is a square matrix of full rank.\n",
        "* Since $A \\in \\mathbb{C}^{m\\times m}$ has full rank, it has $m$ linearly independent columns. \n",
        "    * Thus, it forms a basis for the whole space $\\mathbb{C}^{m}$. \n",
        "        * Therefore, any vector in $\\mathbb{C}^{m}$ can be expressed as a linear combination of its columns.\n",
        "        * In particular, the one-hot vector $e_j$ with 1 in its $j^{th}$ entry, can be expressed as a linear combination of $A$'s columns: $e_j = \\sum\\limits_{i=1}^{m}z_{ij}a_{i}$\n",
        "\n",
        "$$\n",
        "\\left[\n",
        "    \\begin{matrix}\n",
        "        \\phantom\\vert \\\\\n",
        "        e_1 \\\\\n",
        "        \\phantom\\vert \\\\\n",
        "    \\end{matrix}\n",
        "    \\left|\\\n",
        "    \\begin{matrix}\n",
        "        \\phantom\\vert \\\\\n",
        "        \\dots \\\\\n",
        "        \\phantom\\vert \\\\\n",
        "    \\end{matrix}\n",
        "    \\right.\n",
        "    \\left|\\\n",
        "    \\begin{matrix}\n",
        "        \\phantom\\vert \\\\\n",
        "        e_m \\\\\n",
        "        \\phantom\\vert \\\\\n",
        "    \\end{matrix}\n",
        "    \\right.\n",
        "\\right] =\n",
        "I = \n",
        "AZ\n",
        "$$\n",
        "\n",
        "$Z$ is the *inverse* of A and it's unique. $AA^{-1} = A^{-1}A = I$"
      ],
      "metadata": {
        "id": "Yn_69u6VKp64"
      }
    },
    {
      "cell_type": "code",
      "source": [
        ""
      ],
      "metadata": {
        "id": "SyGm9yxyTmcR"
      },
      "execution_count": null,
      "outputs": []
    }
  ]
}